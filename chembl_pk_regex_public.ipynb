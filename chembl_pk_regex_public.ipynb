{
 "cells": [
  {
   "cell_type": "code",
   "execution_count": 1,
   "id": "b636d361",
   "metadata": {},
   "outputs": [],
   "source": [
    "# © 2023 Nicolas Bosc <nbosc@ebi.ac.uk>"
   ]
  },
  {
   "cell_type": "markdown",
   "id": "8a534162",
   "metadata": {},
   "source": [
    "# Extract PK parameters from ChEMBL assay descriptions\n",
    "<b>Prerequisite:</b> an accessible Oracle instance of ChEMBL\n",
    "\n",
    "<b>Objective:</b> Using regex to extract PK/PD parameters (e.g. dose, time, route of admistration etc.) from ChEMBL assay descriptions.\n",
    "\n",
    "<b>Description:</b>\n",
    "- The first part queries the ChEMBL database for the relevant data and extract some PK/PD parameters from the assay descriptions\n",
    "- The second part applies some sanity checks, and standardisation rules to extracted parameters prior to loading the data in ChEMBL.\n",
    "\n",
    "<b>NB:</b> This notebook does not describe the loading part."
   ]
  },
  {
   "cell_type": "code",
   "execution_count": 10,
   "id": "1f6caa43",
   "metadata": {},
   "outputs": [],
   "source": [
    "import pandas as pd, numpy as np\n",
    "import re\n",
    "import pk_parameters_regex as pk_regex\n",
    "\n",
    "from sqlalchemy import create_engine\n",
    "\n",
    "import warnings\n",
    "warnings.filterwarnings('ignore')\n",
    "\n",
    "#### notebook settings\n",
    "# pd.options.display.max_rows= 100\n",
    "# pd.options.display.max_columns = 50\n",
    "# pd.options.display.max_colwidth = 100"
   ]
  },
  {
   "cell_type": "markdown",
   "id": "8c6b856b",
   "metadata": {},
   "source": [
    "## Direct ChEMBL database access "
   ]
  },
  {
   "cell_type": "code",
   "execution_count": 11,
   "id": "19ba59dc",
   "metadata": {},
   "outputs": [],
   "source": [
    "engine = create_engine(f\"oracle+oracledb://{username}:{password}@{hostname}:{port}\")"
   ]
  },
  {
   "cell_type": "markdown",
   "id": "58b0d93b",
   "metadata": {},
   "source": [
    "## Functions "
   ]
  },
  {
   "cell_type": "markdown",
   "id": "cdb2e290-74eb-476b-a15b-6b426618f571",
   "metadata": {},
   "source": [
    "# PART 1"
   ]
  },
  {
   "cell_type": "markdown",
   "id": "79cb15ac",
   "metadata": {},
   "source": [
    "## Regex "
   ]
  },
  {
   "cell_type": "code",
   "execution_count": 12,
   "id": "14171fb6",
   "metadata": {},
   "outputs": [],
   "source": [
    "dose_unit = pk_regex.dose_unit\n",
    "time_of_measurement = pk_regex.time_of_measurement\n",
    "route_of_administration = pk_regex.route_of_administration\n",
    "tissue = pk_regex.tissue"
   ]
  },
  {
   "cell_type": "markdown",
   "id": "16d561ef",
   "metadata": {},
   "source": [
    "##  Legacy data extracted from assay description"
   ]
  },
  {
   "cell_type": "markdown",
   "id": "95f11e33",
   "metadata": {},
   "source": [
    "#### The PK parameters (time, route of administration, dose etc.) might be written in the assay description and they can be extracted using regular expressions.\n",
    "\n",
    "#### Legacy data definition\n",
    "- Data from CHEMBL 33\n",
    "- standard_type = Cmax or AUC\n"
   ]
  },
  {
   "cell_type": "code",
   "execution_count": 13,
   "id": "5cc0beb7",
   "metadata": {
    "scrolled": true
   },
   "outputs": [
    {
     "data": {
      "text/plain": [
       "(61779, 5)"
      ]
     },
     "execution_count": 13,
     "metadata": {},
     "output_type": "execute_result"
    }
   ],
   "source": [
    "sql='''\n",
    "SELECT a.activity_id, a.standard_type,\n",
    "       b.assay_id,b.description, b.assay_type\n",
    "FROM\n",
    "    CHEMBL_33.activities a\n",
    "    JOIN CHEMBL_33.assays b ON a.assay_id = b.assay_id\n",
    "WHERE\n",
    "    lower(a.standard_type) IN ('cmax', 'auc')\n",
    "'''\n",
    "df_pk = pd.read_sql(sql, engine)\n",
    "df_pk.shape"
   ]
  },
  {
   "cell_type": "code",
   "execution_count": 14,
   "id": "1332f176-5598-4118-9772-38fcab086b74",
   "metadata": {},
   "outputs": [
    {
     "data": {
      "text/plain": [
       "(24692, 5)"
      ]
     },
     "execution_count": 14,
     "metadata": {},
     "output_type": "execute_result"
    }
   ],
   "source": [
    "df_cmax = df_pk[df_pk.standard_type=='Cmax']\n",
    "df_cmax.shape"
   ]
  },
  {
   "cell_type": "code",
   "execution_count": 15,
   "id": "52dbc1e4",
   "metadata": {},
   "outputs": [
    {
     "data": {
      "text/plain": [
       "(37087, 5)"
      ]
     },
     "execution_count": 15,
     "metadata": {},
     "output_type": "execute_result"
    }
   ],
   "source": [
    "df_auc= df_pk[df_pk.standard_type=='AUC']\n",
    "df_auc.shape"
   ]
  },
  {
   "cell_type": "code",
   "execution_count": 16,
   "id": "d5e10d71",
   "metadata": {},
   "outputs": [
    {
     "data": {
      "text/plain": [
       "24692"
      ]
     },
     "execution_count": 16,
     "metadata": {},
     "output_type": "execute_result"
    }
   ],
   "source": [
    "df_cmax.activity_id.nunique()"
   ]
  },
  {
   "cell_type": "code",
   "execution_count": 17,
   "id": "e5c7b769",
   "metadata": {},
   "outputs": [
    {
     "data": {
      "text/plain": [
       "37087"
      ]
     },
     "execution_count": 17,
     "metadata": {},
     "output_type": "execute_result"
    }
   ],
   "source": [
    "df_auc.activity_id.nunique()"
   ]
  },
  {
   "cell_type": "markdown",
   "id": "a074fa06",
   "metadata": {},
   "source": [
    "#### Use the regex to get the PK parameters"
   ]
  },
  {
   "cell_type": "code",
   "execution_count": 22,
   "id": "4f022e7d",
   "metadata": {},
   "outputs": [],
   "source": [
    "df_cmax = df_cmax.assign(\n",
    "    dose_unit=df_cmax.apply(lambda x: pk_regex.find_dose_unit(dose_unit, x['description']), axis=1),\n",
    "    route=df_cmax.apply(lambda x: pk_regex.find_route(route_of_administration, x['description']), axis=1),\n",
    "    tissue=df_cmax.apply(lambda x: pk_regex.find_tissue(tissue, x['description']),axis=1),\n",
    "    )"
   ]
  },
  {
   "cell_type": "code",
   "execution_count": 23,
   "id": "b8a0ff20",
   "metadata": {},
   "outputs": [],
   "source": [
    "df_auc = df_auc.assign(\n",
    "    dose_unit=df_auc.apply(lambda x: pk_regex.find_dose_unit(dose_unit, x['description']), axis=1),\n",
    "    route=df_auc.apply(lambda x: pk_regex.find_route(route_of_administration, x['description']), axis=1),\n",
    "    time=df_auc.apply(lambda x: pk_regex.find_time(time_of_measurement, x['description']), axis=1),\n",
    "    tissue=df_auc.apply(lambda x: pk_regex.find_tissue(tissue, x['description']),axis=1),\n",
    "    )"
   ]
  },
  {
   "cell_type": "markdown",
   "id": "bf3e506e-6f56-406d-825e-930277d51645",
   "metadata": {},
   "source": [
    "# Part 2"
   ]
  },
  {
   "cell_type": "code",
   "execution_count": 25,
   "id": "171e3c30",
   "metadata": {},
   "outputs": [
    {
     "name": "stdout",
     "output_type": "stream",
     "text": [
      "DATA FILTERING - START\n",
      "\n",
      "Before curation, there are 37087 AUC data points.\n",
      "1150 AUC data points have an ambiguous route of administration and were excluded.\n",
      "2803 AUC data points have no dose information but were kept.\n",
      "228 AUC data points have a dose range and they have been excluded.\n",
      "14908 AUC data points have no time and they have been excluded\n",
      "After curation, there are now 20800 AUC data points\n",
      "\n",
      "DATA FILTERING - END\n"
     ]
    }
   ],
   "source": [
    "df_auc = pk_regex.remove_low_quality_pk_data(df_auc)"
   ]
  },
  {
   "cell_type": "code",
   "execution_count": 26,
   "id": "f80efa47",
   "metadata": {
    "scrolled": true
   },
   "outputs": [
    {
     "name": "stdout",
     "output_type": "stream",
     "text": [
      "DATA FILTERING - START\n",
      "\n",
      "Before curation, there are 24692 Cmax data points.\n",
      "1143 Cmax data points have an ambiguous route of administration and were excluded.\n",
      "1587 Cmax data points have no dose information but were kept.\n",
      "119 Cmax data points have a dose range and they have been excluded.\n",
      "After curation, there are now 23402 Cmax data points\n",
      "\n",
      "DATA FILTERING - END\n"
     ]
    }
   ],
   "source": [
    "df_cmax = pk_regex.remove_low_quality_pk_data(df_cmax)"
   ]
  },
  {
   "cell_type": "markdown",
   "id": "5d8386bb",
   "metadata": {},
   "source": [
    "---"
   ]
  },
  {
   "cell_type": "markdown",
   "id": "999e9f17",
   "metadata": {},
   "source": [
    "#### Merge Cmax and AUC data "
   ]
  },
  {
   "cell_type": "code",
   "execution_count": 27,
   "id": "29386820",
   "metadata": {},
   "outputs": [],
   "source": [
    "df_pk = pd.concat([df_cmax, df_auc])"
   ]
  },
  {
   "cell_type": "code",
   "execution_count": 28,
   "id": "6dec4d38",
   "metadata": {},
   "outputs": [
    {
     "data": {
      "text/plain": [
       "(44202, 9)"
      ]
     },
     "execution_count": 28,
     "metadata": {},
     "output_type": "execute_result"
    }
   ],
   "source": [
    "df_pk.shape"
   ]
  },
  {
   "cell_type": "code",
   "execution_count": 29,
   "id": "53e80f2a-ff32-458c-8563-f3ab2c2f8ea0",
   "metadata": {},
   "outputs": [
    {
     "data": {
      "text/html": [
       "<div>\n",
       "<style scoped>\n",
       "    .dataframe tbody tr th:only-of-type {\n",
       "        vertical-align: middle;\n",
       "    }\n",
       "\n",
       "    .dataframe tbody tr th {\n",
       "        vertical-align: top;\n",
       "    }\n",
       "\n",
       "    .dataframe thead th {\n",
       "        text-align: right;\n",
       "    }\n",
       "</style>\n",
       "<table border=\"1\" class=\"dataframe\">\n",
       "  <thead>\n",
       "    <tr style=\"text-align: right;\">\n",
       "      <th></th>\n",
       "      <th>activity_id</th>\n",
       "      <th>standard_type</th>\n",
       "      <th>assay_id</th>\n",
       "      <th>description</th>\n",
       "      <th>assay_type</th>\n",
       "      <th>dose_unit</th>\n",
       "      <th>route</th>\n",
       "      <th>tissue</th>\n",
       "      <th>time</th>\n",
       "    </tr>\n",
       "  </thead>\n",
       "  <tbody>\n",
       "    <tr>\n",
       "      <th>2</th>\n",
       "      <td>396193</td>\n",
       "      <td>Cmax</td>\n",
       "      <td>5052</td>\n",
       "      <td>Cmax value in rat after oral administration at...</td>\n",
       "      <td>A</td>\n",
       "      <td>10 mg/kg</td>\n",
       "      <td>oral</td>\n",
       "      <td></td>\n",
       "      <td>NaN</td>\n",
       "    </tr>\n",
       "    <tr>\n",
       "      <th>3</th>\n",
       "      <td>448177</td>\n",
       "      <td>Cmax</td>\n",
       "      <td>8533</td>\n",
       "      <td>Cmax after 10 mg/kg oral administration in rat</td>\n",
       "      <td>A</td>\n",
       "      <td>10 mg/kg</td>\n",
       "      <td>oral</td>\n",
       "      <td></td>\n",
       "      <td>NaN</td>\n",
       "    </tr>\n",
       "    <tr>\n",
       "      <th>4</th>\n",
       "      <td>457279</td>\n",
       "      <td>Cmax</td>\n",
       "      <td>8533</td>\n",
       "      <td>Cmax after 10 mg/kg oral administration in rat</td>\n",
       "      <td>A</td>\n",
       "      <td>10 mg/kg</td>\n",
       "      <td>oral</td>\n",
       "      <td></td>\n",
       "      <td>NaN</td>\n",
       "    </tr>\n",
       "    <tr>\n",
       "      <th>5</th>\n",
       "      <td>442836</td>\n",
       "      <td>Cmax</td>\n",
       "      <td>8533</td>\n",
       "      <td>Cmax after 10 mg/kg oral administration in rat</td>\n",
       "      <td>A</td>\n",
       "      <td>10 mg/kg</td>\n",
       "      <td>oral</td>\n",
       "      <td></td>\n",
       "      <td>NaN</td>\n",
       "    </tr>\n",
       "    <tr>\n",
       "      <th>6</th>\n",
       "      <td>441388</td>\n",
       "      <td>Cmax</td>\n",
       "      <td>8533</td>\n",
       "      <td>Cmax after 10 mg/kg oral administration in rat</td>\n",
       "      <td>A</td>\n",
       "      <td>10 mg/kg</td>\n",
       "      <td>oral</td>\n",
       "      <td></td>\n",
       "      <td>NaN</td>\n",
       "    </tr>\n",
       "    <tr>\n",
       "      <th>...</th>\n",
       "      <td>...</td>\n",
       "      <td>...</td>\n",
       "      <td>...</td>\n",
       "      <td>...</td>\n",
       "      <td>...</td>\n",
       "      <td>...</td>\n",
       "      <td>...</td>\n",
       "      <td>...</td>\n",
       "      <td>...</td>\n",
       "    </tr>\n",
       "    <tr>\n",
       "      <th>61764</th>\n",
       "      <td>24668593</td>\n",
       "      <td>AUC</td>\n",
       "      <td>2187028</td>\n",
       "      <td>AUC (0 to infinity) in Sprague-Dawley rat at 1...</td>\n",
       "      <td>A</td>\n",
       "      <td>1 mg/kg</td>\n",
       "      <td>iv</td>\n",
       "      <td></td>\n",
       "      <td>0 to infinity</td>\n",
       "    </tr>\n",
       "    <tr>\n",
       "      <th>61765</th>\n",
       "      <td>24668595</td>\n",
       "      <td>AUC</td>\n",
       "      <td>2187028</td>\n",
       "      <td>AUC (0 to infinity) in Sprague-Dawley rat at 1...</td>\n",
       "      <td>A</td>\n",
       "      <td>1 mg/kg</td>\n",
       "      <td>iv</td>\n",
       "      <td></td>\n",
       "      <td>0 to infinity</td>\n",
       "    </tr>\n",
       "    <tr>\n",
       "      <th>61773</th>\n",
       "      <td>24849830</td>\n",
       "      <td>AUC</td>\n",
       "      <td>2233905</td>\n",
       "      <td>AUC (0 to 24 hrs) in Sprague-Dawley rat at 1 m...</td>\n",
       "      <td>A</td>\n",
       "      <td>1 mg/kg</td>\n",
       "      <td>iv</td>\n",
       "      <td></td>\n",
       "      <td>AUC (0 to 24 hrs)</td>\n",
       "    </tr>\n",
       "    <tr>\n",
       "      <th>61775</th>\n",
       "      <td>24790937</td>\n",
       "      <td>AUC</td>\n",
       "      <td>2219010</td>\n",
       "      <td>AUClast in Sprague-Dawley rat at 2.5 mg/kg, iv...</td>\n",
       "      <td>A</td>\n",
       "      <td>2.5 mg/kg</td>\n",
       "      <td>iv</td>\n",
       "      <td></td>\n",
       "      <td>up to 24 hrs</td>\n",
       "    </tr>\n",
       "    <tr>\n",
       "      <th>61777</th>\n",
       "      <td>24959067</td>\n",
       "      <td>AUC</td>\n",
       "      <td>2260193</td>\n",
       "      <td>AUClast in C57Bl/6 mouse at 3 mg/kg, iv and me...</td>\n",
       "      <td>A</td>\n",
       "      <td>3 mg/kg</td>\n",
       "      <td>iv</td>\n",
       "      <td></td>\n",
       "      <td>upto 8 hrs</td>\n",
       "    </tr>\n",
       "  </tbody>\n",
       "</table>\n",
       "<p>44202 rows × 9 columns</p>\n",
       "</div>"
      ],
      "text/plain": [
       "       activity_id standard_type  assay_id  \\\n",
       "2           396193          Cmax      5052   \n",
       "3           448177          Cmax      8533   \n",
       "4           457279          Cmax      8533   \n",
       "5           442836          Cmax      8533   \n",
       "6           441388          Cmax      8533   \n",
       "...            ...           ...       ...   \n",
       "61764     24668593           AUC   2187028   \n",
       "61765     24668595           AUC   2187028   \n",
       "61773     24849830           AUC   2233905   \n",
       "61775     24790937           AUC   2219010   \n",
       "61777     24959067           AUC   2260193   \n",
       "\n",
       "                                             description assay_type  \\\n",
       "2      Cmax value in rat after oral administration at...          A   \n",
       "3         Cmax after 10 mg/kg oral administration in rat          A   \n",
       "4         Cmax after 10 mg/kg oral administration in rat          A   \n",
       "5         Cmax after 10 mg/kg oral administration in rat          A   \n",
       "6         Cmax after 10 mg/kg oral administration in rat          A   \n",
       "...                                                  ...        ...   \n",
       "61764  AUC (0 to infinity) in Sprague-Dawley rat at 1...          A   \n",
       "61765  AUC (0 to infinity) in Sprague-Dawley rat at 1...          A   \n",
       "61773  AUC (0 to 24 hrs) in Sprague-Dawley rat at 1 m...          A   \n",
       "61775  AUClast in Sprague-Dawley rat at 2.5 mg/kg, iv...          A   \n",
       "61777  AUClast in C57Bl/6 mouse at 3 mg/kg, iv and me...          A   \n",
       "\n",
       "       dose_unit route tissue               time  \n",
       "2       10 mg/kg  oral                       NaN  \n",
       "3       10 mg/kg  oral                       NaN  \n",
       "4       10 mg/kg  oral                       NaN  \n",
       "5       10 mg/kg  oral                       NaN  \n",
       "6       10 mg/kg  oral                       NaN  \n",
       "...          ...   ...    ...                ...  \n",
       "61764    1 mg/kg    iv             0 to infinity  \n",
       "61765    1 mg/kg    iv             0 to infinity  \n",
       "61773    1 mg/kg    iv         AUC (0 to 24 hrs)  \n",
       "61775  2.5 mg/kg    iv              up to 24 hrs  \n",
       "61777    3 mg/kg    iv                upto 8 hrs  \n",
       "\n",
       "[44202 rows x 9 columns]"
      ]
     },
     "execution_count": 29,
     "metadata": {},
     "output_type": "execute_result"
    }
   ],
   "source": [
    "df_pk"
   ]
  },
  {
   "cell_type": "markdown",
   "id": "8b475669",
   "metadata": {},
   "source": [
    "#### Replace missing values by None"
   ]
  },
  {
   "cell_type": "code",
   "execution_count": 30,
   "id": "beecb4f3",
   "metadata": {},
   "outputs": [],
   "source": [
    "df_pk = df_pk.replace({'': None}).replace({np.nan: None})"
   ]
  },
  {
   "cell_type": "markdown",
   "id": "8c0323c1",
   "metadata": {},
   "source": [
    "#### Normalise the route of administration"
   ]
  },
  {
   "cell_type": "markdown",
   "id": "8a500b54-d2b9-4403-b988-39283a1ebad7",
   "metadata": {},
   "source": [
    "We use the route of administration vocabulary than already used in ChEMBL"
   ]
  },
  {
   "cell_type": "code",
   "execution_count": 31,
   "id": "39be900e",
   "metadata": {},
   "outputs": [],
   "source": [
    "route_mapping = {'po':'ORAL','Po':'ORAL','PO':'ORAL','p.o.':'ORAL','Oral':'ORAL','orally':'ORAL'\n",
    "                 ,'peroral':'ORAL','Peroral':'ORAL','perorally':'ORAL'\n",
    "                 ,'paroral':'ORAL'\n",
    "                 ,'Preoral':'ORAL'\n",
    "                 ,'iv':'INTRAVENOUS','intravenously':'INTRAVENOUS','i.v.':'INTRAVENOUS','IV':'INTRAVENOUS'\n",
    "                 ,'ip':'INTRAPERITONEAL','i.p.':'INTRAPERITONEAL','intraperitoneally':'INTRAPERITONEAL'\n",
    "                 ,'sc':'SUBCUTANEOUS'\n",
    "                 ,'ig':'INTRAGASTRIC','IG':'INTRAGASTRIC','intragastrically':'INTRAGASTRIC'\n",
    "                 ,'inhalation':'RESPIRATORY (INHALATION)'\n",
    "                 ,'im':'INTRAMUSCULAR','IM':'INTRAMUSCULAR','intramuscularly':'INTRAMUSCULAR'\n",
    "                 ,'intraduodenally':'INTRADUODENAL'\n",
    "                 ,'intranasal':'NASAL', 'intranasally':'NASAL'\n",
    "                 ,'intrajejunal':'INTRAILEAL'\n",
    "                 ,'eye':'OPHTHALMIC','eyes':'OPHTHALMIC','intraocular':'INTRAOCULAR','intraocularly':'INTRAOCULAR'\n",
    "                 ,'i.c.v':'INTRATHECAL'}"
   ]
  },
  {
   "cell_type": "code",
   "execution_count": 32,
   "id": "7aaec3ee",
   "metadata": {},
   "outputs": [],
   "source": [
    "df_pk=df_pk.replace({\"route\": route_mapping})\n",
    "df_pk['route'] = df_pk['route'].str.upper()"
   ]
  },
  {
   "cell_type": "code",
   "execution_count": 33,
   "id": "516ba66f",
   "metadata": {},
   "outputs": [
    {
     "data": {
      "text/plain": [
       "array(['ORAL', 'INTRAVENOUS', None, 'INTRAPERITONEAL', 'SUBCUTANEOUS',\n",
       "       'INTRADUODENAL', 'INTRAMUSCULAR', 'INTRAGASTRIC', 'OPHTHALMIC',\n",
       "       'NASAL', 'SUBLINGUAL', 'NASOGASTRIC', 'RESPIRATORY (INHALATION)',\n",
       "       'INTRAILEAL', 'INTRAOCULAR', 'INTRATHECAL'], dtype=object)"
      ]
     },
     "execution_count": 33,
     "metadata": {},
     "output_type": "execute_result"
    }
   ],
   "source": [
    "df_pk.route.unique()"
   ]
  },
  {
   "cell_type": "markdown",
   "id": "cdf98151",
   "metadata": {},
   "source": [
    "#### Normalise tissue "
   ]
  },
  {
   "cell_type": "code",
   "execution_count": 34,
   "id": "a100510b-26c9-4bb1-9f74-a4510ac9dccd",
   "metadata": {},
   "outputs": [
    {
     "data": {
      "text/plain": [
       "array([None, 'plasma', 'blood', 'spleen', 'lung', 'brain',\n",
       "       'cerebrospinal fluid', 'portal vein', 'serum', 'heart', 'prostate',\n",
       "       'biliary fluid', 'liver', 'retina', 'choroid', 'cornea', 'thigh',\n",
       "       'cage fluid', 'muscle', 'kidney', 'skin', 'interstitial fluid',\n",
       "       'adipose tissue', 'hypothalamus', 'epithelial lining fluid',\n",
       "       'peritoneal fluid', 'alveolar cell',\n",
       "       'lung epithelial lining fluid', 'thigh | interstitial fluid',\n",
       "       'tumor', 'urine', 'tumor | liver', 'kidney | tumor',\n",
       "       'heart | tumor', 'body fluid', 'blood | portal vein', 'jejunum',\n",
       "       'muscle | thigh', 'large intestine', 'small intestine', 'fat',\n",
       "       'mesenteric lymph', 'extracellular fluid', 'sciatic nerve',\n",
       "       'stomach', 'blood | liver', 'intestine', 'serum | tumor'],\n",
       "      dtype=object)"
      ]
     },
     "execution_count": 34,
     "metadata": {},
     "output_type": "execute_result"
    }
   ],
   "source": [
    "df_pk = df_pk.assign(tissue=df_pk.tissue.str.lower().str.strip())\n",
    "\n",
    "tissue_of_measurement = {\n",
    "                        'csf':'cerebrospinal fluid'    \n",
    "}\n",
    "\n",
    "df_pk=df_pk.replace({\"tissue\": tissue_of_measurement})\n",
    "\n",
    "df_pk.tissue.unique()"
   ]
  },
  {
   "cell_type": "markdown",
   "id": "db7b6b9c",
   "metadata": {},
   "source": [
    "#### Format data "
   ]
  },
  {
   "cell_type": "code",
   "execution_count": 36,
   "id": "eb44d6b5",
   "metadata": {
    "scrolled": true
   },
   "outputs": [],
   "source": [
    "df_pk = df_pk.melt(id_vars=['activity_id','standard_type','assay_id','description','assay_type'],\n",
    "             value_vars=['route','time','dose_unit','tissue'])"
   ]
  },
  {
   "cell_type": "code",
   "execution_count": 37,
   "id": "c05b2f49",
   "metadata": {},
   "outputs": [
    {
     "data": {
      "text/plain": [
       "array(['route', 'time', 'dose_unit', 'tissue'], dtype=object)"
      ]
     },
     "execution_count": 37,
     "metadata": {},
     "output_type": "execute_result"
    }
   ],
   "source": [
    "df_pk.variable.unique()"
   ]
  },
  {
   "cell_type": "code",
   "execution_count": 38,
   "id": "128fa629",
   "metadata": {},
   "outputs": [],
   "source": [
    "df_pk = df_pk.replace('dose_unit','DOSE')\n",
    "df_pk = df_pk.replace('tissue','TISSUE')\n",
    "df_pk = df_pk.replace('route','ROUTE')\n",
    "df_pk = df_pk.replace('time','TIME')"
   ]
  },
  {
   "cell_type": "code",
   "execution_count": 39,
   "id": "fb8f8a53",
   "metadata": {},
   "outputs": [
    {
     "data": {
      "text/plain": [
       "array(['ROUTE', 'TIME', 'DOSE', 'TISSUE'], dtype=object)"
      ]
     },
     "execution_count": 39,
     "metadata": {},
     "output_type": "execute_result"
    }
   ],
   "source": [
    "df_pk.variable.unique()"
   ]
  },
  {
   "cell_type": "code",
   "execution_count": 40,
   "id": "97f57632",
   "metadata": {},
   "outputs": [],
   "source": [
    "df_pk = df_pk.rename({'value':'text_value', 'variable':'type'},axis=1)"
   ]
  },
  {
   "cell_type": "code",
   "execution_count": 41,
   "id": "86cae634",
   "metadata": {},
   "outputs": [],
   "source": [
    "df_pk = df_pk.assign(dose_unit=df_pk.text_value)\n",
    "\n",
    "df_pk.loc[df_pk['type']!='DOSE','dose_unit'] = None\n",
    "df_pk.loc[df_pk['type']=='DOSE','text_value'] = None"
   ]
  },
  {
   "cell_type": "code",
   "execution_count": 44,
   "id": "475b48e5",
   "metadata": {},
   "outputs": [],
   "source": [
    "df_pk['value'], df_pk['units'] = zip(*df_pk.dose_unit.apply(lambda x: pk_regex.split_dose_unit(x)))\n",
    "df_pk = df_pk.drop('dose_unit', axis=1)"
   ]
  },
  {
   "cell_type": "code",
   "execution_count": 45,
   "id": "25e943ec",
   "metadata": {},
   "outputs": [
    {
     "data": {
      "text/plain": [
       "(176808, 9)"
      ]
     },
     "execution_count": 45,
     "metadata": {},
     "output_type": "execute_result"
    }
   ],
   "source": [
    "df_pk.shape"
   ]
  },
  {
   "cell_type": "code",
   "execution_count": 46,
   "id": "6b8b8f8e",
   "metadata": {},
   "outputs": [],
   "source": [
    "df_pk = df_pk[~((df_pk.text_value.isnull())&(df_pk.value.isnull())&(df_pk.units.isnull()))].sort_values('activity_id')"
   ]
  },
  {
   "cell_type": "code",
   "execution_count": 47,
   "id": "b144671b",
   "metadata": {
    "scrolled": true
   },
   "outputs": [
    {
     "data": {
      "text/plain": [
       "(112452, 9)"
      ]
     },
     "execution_count": 47,
     "metadata": {},
     "output_type": "execute_result"
    }
   ],
   "source": [
    "df_pk.shape"
   ]
  },
  {
   "cell_type": "markdown",
   "id": "bf829cd4",
   "metadata": {},
   "source": [
    "#### AUC / Cmax stats "
   ]
  },
  {
   "cell_type": "code",
   "execution_count": 48,
   "id": "1a399a82",
   "metadata": {},
   "outputs": [
    {
     "data": {
      "text/plain": [
       "22792"
      ]
     },
     "execution_count": 48,
     "metadata": {},
     "output_type": "execute_result"
    }
   ],
   "source": [
    "df_pk[df_pk.standard_type=='Cmax']['activity_id'].nunique()"
   ]
  },
  {
   "cell_type": "code",
   "execution_count": 49,
   "id": "c032f34b",
   "metadata": {},
   "outputs": [
    {
     "data": {
      "text/html": [
       "<div>\n",
       "<style scoped>\n",
       "    .dataframe tbody tr th:only-of-type {\n",
       "        vertical-align: middle;\n",
       "    }\n",
       "\n",
       "    .dataframe tbody tr th {\n",
       "        vertical-align: top;\n",
       "    }\n",
       "\n",
       "    .dataframe thead th {\n",
       "        text-align: right;\n",
       "    }\n",
       "</style>\n",
       "<table border=\"1\" class=\"dataframe\">\n",
       "  <thead>\n",
       "    <tr style=\"text-align: right;\">\n",
       "      <th></th>\n",
       "      <th>type</th>\n",
       "      <th>activity_id</th>\n",
       "    </tr>\n",
       "  </thead>\n",
       "  <tbody>\n",
       "    <tr>\n",
       "      <th>0</th>\n",
       "      <td>DOSE</td>\n",
       "      <td>21815</td>\n",
       "    </tr>\n",
       "    <tr>\n",
       "      <th>1</th>\n",
       "      <td>ROUTE</td>\n",
       "      <td>21260</td>\n",
       "    </tr>\n",
       "    <tr>\n",
       "      <th>2</th>\n",
       "      <td>TISSUE</td>\n",
       "      <td>5221</td>\n",
       "    </tr>\n",
       "  </tbody>\n",
       "</table>\n",
       "</div>"
      ],
      "text/plain": [
       "     type  activity_id\n",
       "0    DOSE        21815\n",
       "1   ROUTE        21260\n",
       "2  TISSUE         5221"
      ]
     },
     "execution_count": 49,
     "metadata": {},
     "output_type": "execute_result"
    }
   ],
   "source": [
    "df_pk[df_pk.standard_type=='Cmax'].groupby('type')['activity_id'].count().reset_index()"
   ]
  },
  {
   "cell_type": "code",
   "execution_count": 50,
   "id": "90fb33e3",
   "metadata": {},
   "outputs": [
    {
     "data": {
      "text/plain": [
       "20800"
      ]
     },
     "execution_count": 50,
     "metadata": {},
     "output_type": "execute_result"
    }
   ],
   "source": [
    "df_pk[df_pk.standard_type=='AUC']['activity_id'].nunique()"
   ]
  },
  {
   "cell_type": "code",
   "execution_count": 51,
   "id": "434e58fa",
   "metadata": {},
   "outputs": [
    {
     "data": {
      "text/html": [
       "<div>\n",
       "<style scoped>\n",
       "    .dataframe tbody tr th:only-of-type {\n",
       "        vertical-align: middle;\n",
       "    }\n",
       "\n",
       "    .dataframe tbody tr th {\n",
       "        vertical-align: top;\n",
       "    }\n",
       "\n",
       "    .dataframe thead th {\n",
       "        text-align: right;\n",
       "    }\n",
       "</style>\n",
       "<table border=\"1\" class=\"dataframe\">\n",
       "  <thead>\n",
       "    <tr style=\"text-align: right;\">\n",
       "      <th></th>\n",
       "      <th>type</th>\n",
       "      <th>activity_id</th>\n",
       "    </tr>\n",
       "  </thead>\n",
       "  <tbody>\n",
       "    <tr>\n",
       "      <th>0</th>\n",
       "      <td>DOSE</td>\n",
       "      <td>20029</td>\n",
       "    </tr>\n",
       "    <tr>\n",
       "      <th>1</th>\n",
       "      <td>ROUTE</td>\n",
       "      <td>19754</td>\n",
       "    </tr>\n",
       "    <tr>\n",
       "      <th>2</th>\n",
       "      <td>TIME</td>\n",
       "      <td>20800</td>\n",
       "    </tr>\n",
       "    <tr>\n",
       "      <th>3</th>\n",
       "      <td>TISSUE</td>\n",
       "      <td>3573</td>\n",
       "    </tr>\n",
       "  </tbody>\n",
       "</table>\n",
       "</div>"
      ],
      "text/plain": [
       "     type  activity_id\n",
       "0    DOSE        20029\n",
       "1   ROUTE        19754\n",
       "2    TIME        20800\n",
       "3  TISSUE         3573"
      ]
     },
     "execution_count": 51,
     "metadata": {},
     "output_type": "execute_result"
    }
   ],
   "source": [
    "df_pk[df_pk.standard_type=='AUC'].groupby('type')['activity_id'].count().reset_index()"
   ]
  },
  {
   "cell_type": "markdown",
   "id": "92c97663",
   "metadata": {},
   "source": [
    "#### Normalise AUC time "
   ]
  },
  {
   "cell_type": "code",
   "execution_count": 52,
   "id": "185e420f",
   "metadata": {},
   "outputs": [],
   "source": [
    "df_time = pd.read_csv('chembl32_regex_time_standardised_2023-05-05.csv')"
   ]
  },
  {
   "cell_type": "code",
   "execution_count": 53,
   "id": "d0a47d89",
   "metadata": {},
   "outputs": [
    {
     "data": {
      "text/plain": [
       "relation\n",
       "<=    251\n",
       "0      62\n",
       "Name: count, dtype: int64"
      ]
     },
     "execution_count": 53,
     "metadata": {},
     "output_type": "execute_result"
    }
   ],
   "source": [
    "df_time.relation.value_counts()"
   ]
  },
  {
   "cell_type": "code",
   "execution_count": 54,
   "id": "c1b14cbe",
   "metadata": {},
   "outputs": [],
   "source": [
    "df_time.loc[~df_time.text_value.isnull(),'relation'] = None"
   ]
  },
  {
   "cell_type": "code",
   "execution_count": 55,
   "id": "b441f73c",
   "metadata": {},
   "outputs": [
    {
     "data": {
      "text/plain": [
       "relation\n",
       "<=    236\n",
       "Name: count, dtype: int64"
      ]
     },
     "execution_count": 55,
     "metadata": {},
     "output_type": "execute_result"
    }
   ],
   "source": [
    "df_time.relation.value_counts()"
   ]
  },
  {
   "cell_type": "code",
   "execution_count": 56,
   "id": "e71809da",
   "metadata": {},
   "outputs": [
    {
     "data": {
      "text/plain": [
       "(20800, 9)"
      ]
     },
     "execution_count": 56,
     "metadata": {},
     "output_type": "execute_result"
    }
   ],
   "source": [
    "df_pk[(df_pk['type']=='TIME')].shape"
   ]
  },
  {
   "cell_type": "code",
   "execution_count": 57,
   "id": "754cc7d4",
   "metadata": {},
   "outputs": [
    {
     "data": {
      "text/plain": [
       "(112393, 10)"
      ]
     },
     "execution_count": 57,
     "metadata": {},
     "output_type": "execute_result"
    }
   ],
   "source": [
    "df_pk = pd.concat(\n",
    "            [df_pk[(df_pk['type']!='TIME')]\n",
    "                , df_pk[(df_pk['type']=='TIME')].drop(\n",
    "                       ['value','units']\n",
    "                       , axis=1\n",
    "                        ).merge(\n",
    "                               df_time[['time','relation','value','units','text_value']]\n",
    "                                , left_on = 'text_value'\n",
    "                                , right_on='time'\n",
    "                                , how='left').rename(\n",
    "                                    {'text_value_y':'text_value'},axis=1).drop(\n",
    "                                        ['text_value_x','time'],axis=1)\n",
    "            ]\n",
    "        )\n",
    "df_pk = df_pk[~((df_pk.text_value.isnull())&(df_pk.value.isnull()))]\n",
    "df_pk.shape"
   ]
  },
  {
   "cell_type": "code",
   "execution_count": 58,
   "id": "182ae8af",
   "metadata": {},
   "outputs": [],
   "source": [
    "df_pk.loc[(df_pk['type']=='DOSE'),'relation'] = '='"
   ]
  },
  {
   "cell_type": "code",
   "execution_count": 59,
   "id": "97195a4a",
   "metadata": {},
   "outputs": [
    {
     "data": {
      "text/plain": [
       "22792"
      ]
     },
     "execution_count": 59,
     "metadata": {},
     "output_type": "execute_result"
    }
   ],
   "source": [
    "df_pk[df_pk.standard_type=='Cmax']['activity_id'].nunique()"
   ]
  },
  {
   "cell_type": "code",
   "execution_count": 60,
   "id": "672227d7",
   "metadata": {},
   "outputs": [
    {
     "data": {
      "text/plain": [
       "relation\n",
       "=     41844\n",
       "<=     9951\n",
       "Name: count, dtype: int64"
      ]
     },
     "execution_count": 60,
     "metadata": {},
     "output_type": "execute_result"
    }
   ],
   "source": [
    "df_pk.relation.value_counts()"
   ]
  },
  {
   "cell_type": "code",
   "execution_count": 61,
   "id": "c95abbae",
   "metadata": {},
   "outputs": [],
   "source": [
    "def format_time_range(two_row_df):\n",
    "    lower_time = two_row_df[two_row_df.value == two_row_df.value.min()]\n",
    "    upper_time = two_row_df[two_row_df.value == two_row_df.value.max()]\n",
    "    lower_time = lower_time.replace({'TIME':'TIME_LOWER'})\n",
    "    upper_time = upper_time.replace({'TIME':'TIME_UPPER'})\n",
    "    return(pd.concat([lower_time, upper_time]))\n",
    "    "
   ]
  },
  {
   "cell_type": "markdown",
   "id": "c324edc1",
   "metadata": {},
   "source": [
    "#### Rearrange time ranges so text_value does not contains any numerical vales (with the exception of 0-last) "
   ]
  },
  {
   "cell_type": "code",
   "execution_count": 62,
   "id": "99083aee",
   "metadata": {},
   "outputs": [
    {
     "data": {
      "text/plain": [
       "(112775, 10)"
      ]
     },
     "execution_count": 62,
     "metadata": {},
     "output_type": "execute_result"
    }
   ],
   "source": [
    "df_time_range = df_pk[(df_pk['type'] == 'TIME') & (~df_pk.text_value.isnull()) & (~df_pk.units.isnull())]\n",
    "\n",
    "df_time_range['text_value'] = df_time_range.text_value.apply(lambda x: x.split(' - '))\n",
    "df_time_range = df_time_range.explode('text_value')\n",
    "df_time_range.loc[:, 'value'] = df_time_range.text_value\n",
    "df_time_range.loc[:, 'text_value'] = None\n",
    "df_time_range = df_time_range.groupby('activity_id').apply(lambda x : format_time_range(x)).droplevel(0)\n",
    "\n",
    "df_pk = pd.concat([\n",
    "                    df_pk[~((df_pk['type'] == 'TIME') & (~df_pk.text_value.isnull()) & (~df_pk.units.isnull()))]\n",
    "                    , df_time_range\n",
    "                    ])\n",
    "df_pk.shape"
   ]
  },
  {
   "cell_type": "code",
   "execution_count": 63,
   "id": "56bee356",
   "metadata": {},
   "outputs": [],
   "source": [
    "df_pk = df_pk.replace({np.nan: None})"
   ]
  },
  {
   "cell_type": "code",
   "execution_count": 64,
   "id": "6ff02837",
   "metadata": {},
   "outputs": [
    {
     "data": {
      "text/plain": [
       "array(['ORAL', None, 'blood', 'INTRAVENOUS', 'plasma', 'SUBCUTANEOUS',\n",
       "       'cerebrospinal fluid', 'brain', 'INTRAPERITONEAL', 'INTRADUODENAL',\n",
       "       'portal vein', 'tumor', 'INTRAMUSCULAR', 'heart', 'liver',\n",
       "       'kidney', 'spleen', 'serum', 'lung', 'INTRAGASTRIC', 'prostate',\n",
       "       'hypothalamus', 'biliary fluid', 'OPHTHALMIC', 'retina', 'choroid',\n",
       "       'cornea', 'thigh', 'skin', 'NASAL', 'INTRAOCULAR',\n",
       "       'epithelial lining fluid', 'cage fluid', 'muscle',\n",
       "       'adipose tissue', 'interstitial fluid', 'SUBLINGUAL',\n",
       "       'blood | liver', 'peritoneal fluid', 'alveolar cell',\n",
       "       'lung epithelial lining fluid', 'body fluid', 'NASOGASTRIC',\n",
       "       'thigh | interstitial fluid', 'urine', 'intestine',\n",
       "       'mesenteric lymph', 'blood | portal vein', 'extracellular fluid',\n",
       "       'heart | tumor', 'sciatic nerve', 'INTRAILEAL', 'small intestine',\n",
       "       'stomach', 'RESPIRATORY (INHALATION)', 'INTRATHECAL', 'jejunum',\n",
       "       'muscle | thigh', 'large intestine', 'fat', 'tumor | liver',\n",
       "       'kidney | tumor', 'serum | tumor', 'infinity', 'AUCmax',\n",
       "       '0 - last'], dtype=object)"
      ]
     },
     "execution_count": 64,
     "metadata": {},
     "output_type": "execute_result"
    }
   ],
   "source": [
    "df_pk.text_value.unique()"
   ]
  },
  {
   "cell_type": "code",
   "execution_count": 65,
   "id": "6a82ee0a",
   "metadata": {},
   "outputs": [
    {
     "data": {
      "text/plain": [
       "array(['ROUTE', 'DOSE', 'TISSUE', 'TIME', 'TIME_LOWER', 'TIME_UPPER'],\n",
       "      dtype=object)"
      ]
     },
     "execution_count": 65,
     "metadata": {},
     "output_type": "execute_result"
    }
   ],
   "source": [
    "df_pk.type.unique()"
   ]
  },
  {
   "cell_type": "markdown",
   "id": "cf2fe7e7-7119-4c51-9650-d51326aa5ccf",
   "metadata": {},
   "source": [
    "### Export flat file"
   ]
  },
  {
   "cell_type": "code",
   "execution_count": 114,
   "id": "a0c8f9d0-029b-4e38-896f-b5a0c7c05f4f",
   "metadata": {},
   "outputs": [],
   "source": [
    "df_pk.to_excel(f'chembl33_cmax_auc_legacy.xlsx', index=False)"
   ]
  }
 ],
 "metadata": {
  "kernelspec": {
   "display_name": "Python 3 (ipykernel)",
   "language": "python",
   "name": "python3"
  },
  "language_info": {
   "codemirror_mode": {
    "name": "ipython",
    "version": 3
   },
   "file_extension": ".py",
   "mimetype": "text/x-python",
   "name": "python",
   "nbconvert_exporter": "python",
   "pygments_lexer": "ipython3",
   "version": "3.11.12"
  }
 },
 "nbformat": 4,
 "nbformat_minor": 5
}
